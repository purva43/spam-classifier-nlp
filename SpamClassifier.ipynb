{
 "cells": [
  {
   "cell_type": "code",
   "execution_count": null,
   "id": "bdadec19",
   "metadata": {
    "vscode": {
     "languageId": "plaintext"
    }
   },
   "outputs": [],
   "source": [
    "\n",
    "---\n",
    "\n",
    "## ✅ `requirements.txt`\n",
    "\n",
    "```txt\n",
    "pandas\n",
    "numpy\n",
    "scikit-learn\n",
    "matplotlib\n",
    "seaborn\n",
    "jupyter\n"
   ]
  }
 ],
 "metadata": {
  "language_info": {
   "name": "python"
  }
 },
 "nbformat": 4,
 "nbformat_minor": 5
}
